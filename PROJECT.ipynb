{
 "cells": [
  {
   "cell_type": "code",
   "execution_count": 1,
   "id": "6d35ee1f",
   "metadata": {},
   "outputs": [],
   "source": [
    "import numpy as np\n",
    "import pandas as pd\n",
    "import matplotlib.pyplot as plt\n",
    "%matplotlib inline\n",
    "import seaborn as sns\n",
    "# from dataprep.eda import create_report\n",
    "\n",
    "import warnings \n",
    "from warnings import filterwarnings\n",
    "filterwarnings('ignore')"
   ]
  },
  {
   "cell_type": "code",
   "execution_count": 2,
   "id": "930bc352",
   "metadata": {},
   "outputs": [],
   "source": [
    "df = pd.read_excel('Data_Train.xlsx')\n"
   ]
  },
  {
   "cell_type": "code",
   "execution_count": 3,
   "id": "8211c014",
   "metadata": {
    "scrolled": false
   },
   "outputs": [
    {
     "data": {
      "text/html": [
       "<div>\n",
       "<style scoped>\n",
       "    .dataframe tbody tr th:only-of-type {\n",
       "        vertical-align: middle;\n",
       "    }\n",
       "\n",
       "    .dataframe tbody tr th {\n",
       "        vertical-align: top;\n",
       "    }\n",
       "\n",
       "    .dataframe thead th {\n",
       "        text-align: right;\n",
       "    }\n",
       "</style>\n",
       "<table border=\"1\" class=\"dataframe\">\n",
       "  <thead>\n",
       "    <tr style=\"text-align: right;\">\n",
       "      <th></th>\n",
       "      <th>Airline</th>\n",
       "      <th>Date_of_Journey</th>\n",
       "      <th>Source</th>\n",
       "      <th>Destination</th>\n",
       "      <th>Route</th>\n",
       "      <th>Dep_Time</th>\n",
       "      <th>Arrival_Time</th>\n",
       "      <th>Duration</th>\n",
       "      <th>Total_Stops</th>\n",
       "      <th>Additional_Info</th>\n",
       "      <th>Price</th>\n",
       "    </tr>\n",
       "  </thead>\n",
       "  <tbody>\n",
       "    <tr>\n",
       "      <th>0</th>\n",
       "      <td>IndiGo</td>\n",
       "      <td>24/03/2019</td>\n",
       "      <td>Banglore</td>\n",
       "      <td>New Delhi</td>\n",
       "      <td>BLR → DEL</td>\n",
       "      <td>22:20</td>\n",
       "      <td>01:10 22 Mar</td>\n",
       "      <td>2h 50m</td>\n",
       "      <td>non-stop</td>\n",
       "      <td>No info</td>\n",
       "      <td>3897</td>\n",
       "    </tr>\n",
       "    <tr>\n",
       "      <th>1</th>\n",
       "      <td>Air India</td>\n",
       "      <td>1/05/2019</td>\n",
       "      <td>Kolkata</td>\n",
       "      <td>Banglore</td>\n",
       "      <td>CCU → IXR → BBI → BLR</td>\n",
       "      <td>05:50</td>\n",
       "      <td>13:15</td>\n",
       "      <td>7h 25m</td>\n",
       "      <td>2 stops</td>\n",
       "      <td>No info</td>\n",
       "      <td>7662</td>\n",
       "    </tr>\n",
       "    <tr>\n",
       "      <th>2</th>\n",
       "      <td>Jet Airways</td>\n",
       "      <td>9/06/2019</td>\n",
       "      <td>Delhi</td>\n",
       "      <td>Cochin</td>\n",
       "      <td>DEL → LKO → BOM → COK</td>\n",
       "      <td>09:25</td>\n",
       "      <td>04:25 10 Jun</td>\n",
       "      <td>19h</td>\n",
       "      <td>2 stops</td>\n",
       "      <td>No info</td>\n",
       "      <td>13882</td>\n",
       "    </tr>\n",
       "    <tr>\n",
       "      <th>3</th>\n",
       "      <td>IndiGo</td>\n",
       "      <td>12/05/2019</td>\n",
       "      <td>Kolkata</td>\n",
       "      <td>Banglore</td>\n",
       "      <td>CCU → NAG → BLR</td>\n",
       "      <td>18:05</td>\n",
       "      <td>23:30</td>\n",
       "      <td>5h 25m</td>\n",
       "      <td>1 stop</td>\n",
       "      <td>No info</td>\n",
       "      <td>6218</td>\n",
       "    </tr>\n",
       "    <tr>\n",
       "      <th>4</th>\n",
       "      <td>IndiGo</td>\n",
       "      <td>01/03/2019</td>\n",
       "      <td>Banglore</td>\n",
       "      <td>New Delhi</td>\n",
       "      <td>BLR → NAG → DEL</td>\n",
       "      <td>16:50</td>\n",
       "      <td>21:35</td>\n",
       "      <td>4h 45m</td>\n",
       "      <td>1 stop</td>\n",
       "      <td>No info</td>\n",
       "      <td>13302</td>\n",
       "    </tr>\n",
       "  </tbody>\n",
       "</table>\n",
       "</div>"
      ],
      "text/plain": [
       "       Airline Date_of_Journey    Source Destination                  Route  \\\n",
       "0       IndiGo      24/03/2019  Banglore   New Delhi              BLR → DEL   \n",
       "1    Air India       1/05/2019   Kolkata    Banglore  CCU → IXR → BBI → BLR   \n",
       "2  Jet Airways       9/06/2019     Delhi      Cochin  DEL → LKO → BOM → COK   \n",
       "3       IndiGo      12/05/2019   Kolkata    Banglore        CCU → NAG → BLR   \n",
       "4       IndiGo      01/03/2019  Banglore   New Delhi        BLR → NAG → DEL   \n",
       "\n",
       "  Dep_Time  Arrival_Time Duration Total_Stops Additional_Info  Price  \n",
       "0    22:20  01:10 22 Mar   2h 50m    non-stop         No info   3897  \n",
       "1    05:50         13:15   7h 25m     2 stops         No info   7662  \n",
       "2    09:25  04:25 10 Jun      19h     2 stops         No info  13882  \n",
       "3    18:05         23:30   5h 25m      1 stop         No info   6218  \n",
       "4    16:50         21:35   4h 45m      1 stop         No info  13302  "
      ]
     },
     "execution_count": 3,
     "metadata": {},
     "output_type": "execute_result"
    }
   ],
   "source": [
    "df.head()"
   ]
  },
  {
   "cell_type": "code",
   "execution_count": 4,
   "id": "f0b89a38",
   "metadata": {},
   "outputs": [
    {
     "data": {
      "text/plain": [
       "(10683, 11)"
      ]
     },
     "execution_count": 4,
     "metadata": {},
     "output_type": "execute_result"
    }
   ],
   "source": [
    "# check shaoe()\n",
    "df.shape"
   ]
  },
  {
   "cell_type": "code",
   "execution_count": 5,
   "id": "bf42efbd",
   "metadata": {},
   "outputs": [
    {
     "data": {
      "text/plain": [
       "Airline            0\n",
       "Date_of_Journey    0\n",
       "Source             0\n",
       "Destination        0\n",
       "Route              1\n",
       "Dep_Time           0\n",
       "Arrival_Time       0\n",
       "Duration           0\n",
       "Total_Stops        1\n",
       "Additional_Info    0\n",
       "Price              0\n",
       "dtype: int64"
      ]
     },
     "execution_count": 5,
     "metadata": {},
     "output_type": "execute_result"
    }
   ],
   "source": [
    "## check all missing values\n",
    "\n",
    "df.isna().sum()\n",
    "\n",
    "#  just 2 mssing values"
   ]
  },
  {
   "cell_type": "code",
   "execution_count": 6,
   "id": "2d187308",
   "metadata": {},
   "outputs": [
    {
     "name": "stdout",
     "output_type": "stream",
     "text": [
      "<class 'pandas.core.frame.DataFrame'>\n",
      "RangeIndex: 10683 entries, 0 to 10682\n",
      "Data columns (total 11 columns):\n",
      " #   Column           Non-Null Count  Dtype \n",
      "---  ------           --------------  ----- \n",
      " 0   Airline          10683 non-null  object\n",
      " 1   Date_of_Journey  10683 non-null  object\n",
      " 2   Source           10683 non-null  object\n",
      " 3   Destination      10683 non-null  object\n",
      " 4   Route            10682 non-null  object\n",
      " 5   Dep_Time         10683 non-null  object\n",
      " 6   Arrival_Time     10683 non-null  object\n",
      " 7   Duration         10683 non-null  object\n",
      " 8   Total_Stops      10682 non-null  object\n",
      " 9   Additional_Info  10683 non-null  object\n",
      " 10  Price            10683 non-null  int64 \n",
      "dtypes: int64(1), object(10)\n",
      "memory usage: 918.2+ KB\n"
     ]
    }
   ],
   "source": [
    "df.info()\n",
    "\n",
    "# this also explain which data is null"
   ]
  },
  {
   "cell_type": "code",
   "execution_count": 7,
   "id": "f67fd224",
   "metadata": {},
   "outputs": [],
   "source": [
    "# remove missing data\n",
    "df.dropna(inplace = True)"
   ]
  },
  {
   "cell_type": "code",
   "execution_count": 8,
   "id": "23a16017",
   "metadata": {},
   "outputs": [
    {
     "data": {
      "text/plain": [
       "Airline            0\n",
       "Date_of_Journey    0\n",
       "Source             0\n",
       "Destination        0\n",
       "Route              0\n",
       "Dep_Time           0\n",
       "Arrival_Time       0\n",
       "Duration           0\n",
       "Total_Stops        0\n",
       "Additional_Info    0\n",
       "Price              0\n",
       "dtype: int64"
      ]
     },
     "execution_count": 8,
     "metadata": {},
     "output_type": "execute_result"
    }
   ],
   "source": [
    "df.isna().sum()\n",
    "# now our data is clean"
   ]
  },
  {
   "cell_type": "code",
   "execution_count": 9,
   "id": "6dfe3f18",
   "metadata": {},
   "outputs": [
    {
     "data": {
      "text/plain": [
       "Airline            object\n",
       "Date_of_Journey    object\n",
       "Source             object\n",
       "Destination        object\n",
       "Route              object\n",
       "Dep_Time           object\n",
       "Arrival_Time       object\n",
       "Duration           object\n",
       "Total_Stops        object\n",
       "Additional_Info    object\n",
       "Price               int64\n",
       "dtype: object"
      ]
     },
     "execution_count": 9,
     "metadata": {},
     "output_type": "execute_result"
    }
   ],
   "source": [
    "# check datatype of function\n",
    "df.dtypes"
   ]
  },
  {
   "cell_type": "code",
   "execution_count": null,
   "id": "9b9ac5a1",
   "metadata": {},
   "outputs": [],
   "source": []
  },
  {
   "cell_type": "code",
   "execution_count": 15,
   "id": "3367993c",
   "metadata": {},
   "outputs": [],
   "source": [
    "def change_format(i):\n",
    "    df[i]= pd.to_datetime(df[i])\n",
    "    return df\n",
    "for i in ['Date_of_Journey','Dep_Time', 'Arrival_Time']:\n",
    "    change_format(i)\n",
    "    \n"
   ]
  },
  {
   "cell_type": "code",
   "execution_count": 12,
   "id": "623a3e8b",
   "metadata": {},
   "outputs": [
    {
     "data": {
      "text/plain": [
       "Airline                    object\n",
       "Date_of_Journey    datetime64[ns]\n",
       "Source                     object\n",
       "Destination                object\n",
       "Route                      object\n",
       "Dep_Time           datetime64[ns]\n",
       "Arrival_Time       datetime64[ns]\n",
       "Duration                   object\n",
       "Total_Stops                object\n",
       "Additional_Info            object\n",
       "Price                       int64\n",
       "dtype: object"
      ]
     },
     "execution_count": 12,
     "metadata": {},
     "output_type": "execute_result"
    }
   ],
   "source": [
    "#again check dtypes\n",
    "df.dtypes"
   ]
  },
  {
   "cell_type": "code",
   "execution_count": null,
   "id": "79846284",
   "metadata": {},
   "outputs": [],
   "source": [
    "# extract day & month from date\n",
    "def extract_day_month():\n",
    "    df['Journey_Day']= pd.DatetimeIndex(df['Date_of_Journey']).day\n",
    "    df['Journey_Month'] = pd.DatetimeIndex(df['Date_of_Journey']).month\n",
    "    #     df['month'] = dt.datetime.month\n",
    "    return df\n",
    "extract_day_month()"
   ]
  },
  {
   "cell_type": "code",
   "execution_count": null,
   "id": "07a1af8f",
   "metadata": {},
   "outputs": [],
   "source": [
    "# extract hour min from time\n",
    "def extract_hour(df,col):\n",
    "    df[col + \"_hour\"]=df[col].dt.hour\n",
    "    df[col + \"_minutes\"]=df[col].dt.minute\n",
    "#     df[col + \"_sec\"]=df[col].dt.second\n",
    "    return df\n",
    "extract_hour(df , 'Dep_Time')\n",
    "extract_hour(df , 'Arrival_Time')"
   ]
  },
  {
   "cell_type": "code",
   "execution_count": null,
   "id": "6af08f15",
   "metadata": {},
   "outputs": [],
   "source": [
    "# # Now seprate min & hour from duration\n",
    "# s = df['Duration']\n",
    "# duration = s.str.split(expand=True)\n",
    "# # duration = s.str.split(' ')[0][0:-1]\n",
    "# # # final_df = pd.concat([df, duration], axis =1 )\n",
    "# # # final_df\n",
    "# # duration.rename(columns = {0 :'Duration Hours', 1 : 'Duration minutes'}, inplace = True)\n",
    "# duration\n",
    "\n",
    "duration=list(df['Duration'])\n",
    "\n",
    "for i in range(len(duration)):\n",
    "    if len(duration[i].split(' '))==2:\n",
    "        pass\n",
    "    else:\n",
    "        if 'h' in duration[i]:                   # Check if duration contains only hour\n",
    "            duration[i]=duration[i] + ' 0m'      # Adds 0 minute\n",
    "        else:\n",
    "            duration[i]='0h '+ duration[i]       # if duration contains only second, Adds 0 hour\n",
    "            \n",
    "duration\n",
    "\n",
    "\n",
    "def hour(x):\n",
    "    return x.split(' ')[0][0:-1]\n",
    "def minutes(x):\n",
    "    return x.split(' ')[1][0:-1\n",
    "df['Duration_hours']=df['Duration'].apply(hour)\n",
    "df['Duration_mins']=df['Duration'].apply(min)"
   ]
  },
  {
   "cell_type": "code",
   "execution_count": null,
   "id": "cb693e0f",
   "metadata": {},
   "outputs": [],
   "source": [
    "# # rename columns\n",
    "# final_df.rename(columns = {0 :'Duration Hours', 1 : 'Duration minutes'})\n",
    "\n",
    "# # drop Date_of_Journey, Dep_Time Arrival_Time Duration as we dont need it anymore\n",
    "# final_df.drop(columns = ['Date_of_Journey', 'Dep_Time' , 'Arrival_Time' , 'Duration'])"
   ]
  },
  {
   "cell_type": "code",
   "execution_count": null,
   "id": "aea36636",
   "metadata": {},
   "outputs": [],
   "source": []
  },
  {
   "cell_type": "code",
   "execution_count": null,
   "id": "e091b902",
   "metadata": {},
   "outputs": [],
   "source": []
  },
  {
   "cell_type": "code",
   "execution_count": null,
   "id": "b4ba1c4e",
   "metadata": {},
   "outputs": [],
   "source": []
  },
  {
   "cell_type": "code",
   "execution_count": null,
   "id": "97b7204a",
   "metadata": {},
   "outputs": [],
   "source": []
  },
  {
   "cell_type": "code",
   "execution_count": null,
   "id": "09cd250a",
   "metadata": {},
   "outputs": [],
   "source": []
  },
  {
   "cell_type": "code",
   "execution_count": null,
   "id": "d0729f8f",
   "metadata": {},
   "outputs": [],
   "source": [
    "# graph to show which airline has maximum flight \n",
    "df['Airline'].value_counts().plot(kind='bar',title='Airline Name', figsize=(16,9))\n"
   ]
  },
  {
   "cell_type": "code",
   "execution_count": null,
   "id": "a11c8330",
   "metadata": {},
   "outputs": [],
   "source": [
    "# graph btw price & airline\n",
    "# it shows jet airline has high price\n",
    "plt.figure(figsize=(20,10))\n",
    "sns.boxplot(y='Price',x='Airline',data=df.sort_values('Price',ascending=False))"
   ]
  },
  {
   "cell_type": "code",
   "execution_count": null,
   "id": "3707bc73",
   "metadata": {},
   "outputs": [],
   "source": []
  },
  {
   "cell_type": "code",
   "execution_count": null,
   "id": "4e082f22",
   "metadata": {},
   "outputs": [],
   "source": []
  },
  {
   "cell_type": "code",
   "execution_count": null,
   "id": "eb32009e",
   "metadata": {},
   "outputs": [],
   "source": []
  },
  {
   "cell_type": "code",
   "execution_count": null,
   "id": "91df5060",
   "metadata": {},
   "outputs": [],
   "source": [
    "df.describe()\n"
   ]
  },
  {
   "cell_type": "code",
   "execution_count": null,
   "id": "e536c567",
   "metadata": {},
   "outputs": [],
   "source": [
    "df.describe(include='all')\n"
   ]
  },
  {
   "cell_type": "code",
   "execution_count": null,
   "id": "c22c75ff",
   "metadata": {},
   "outputs": [],
   "source": [
    "df.drop(['Date_of_Journey', 'Dep_Time', 'Arrival_Time'], axis= 1, inplace = True)"
   ]
  },
  {
   "cell_type": "code",
   "execution_count": null,
   "id": "54a1572e",
   "metadata": {},
   "outputs": [],
   "source": []
  },
  {
   "cell_type": "markdown",
   "id": "fedcd7d9",
   "metadata": {},
   "source": [
    "## Categorical Data"
   ]
  },
  {
   "cell_type": "markdown",
   "id": "4d24d6db",
   "metadata": {},
   "source": [
    "ML just Understand integer or numbers so convert categorical data into numbers \n",
    "so in this function catagorical data is obtained from the dataset"
   ]
  },
  {
   "cell_type": "code",
   "execution_count": null,
   "id": "54d6ba99",
   "metadata": {},
   "outputs": [],
   "source": [
    "cat_data = []\n",
    "for i in df.columns:\n",
    "    if df[i].dtype=='O':\n",
    "        cat_data.append(i)"
   ]
  },
  {
   "cell_type": "code",
   "execution_count": null,
   "id": "9f35de49",
   "metadata": {},
   "outputs": [],
   "source": [
    "# def cat_data():\n",
    "#     cat_data = []\n",
    "#     for i in df.columns:\n",
    "#         if df[i].dtype=='O':\n",
    "#             cat_data.append(i)\n",
    "#     return cat_data\n",
    "# cat_data()"
   ]
  },
  {
   "cell_type": "code",
   "execution_count": null,
   "id": "e0e679f6",
   "metadata": {},
   "outputs": [],
   "source": [
    "cont_col = []\n",
    "for i in df.columns:\n",
    "    if df[i].dtype!='O':\n",
    "        cont_col.append(i)"
   ]
  },
  {
   "cell_type": "code",
   "execution_count": null,
   "id": "7f956f70",
   "metadata": {},
   "outputs": [],
   "source": [
    "cont_col"
   ]
  },
  {
   "cell_type": "code",
   "execution_count": null,
   "id": "dc312f75",
   "metadata": {},
   "outputs": [],
   "source": []
  },
  {
   "cell_type": "code",
   "execution_count": null,
   "id": "01569e0c",
   "metadata": {},
   "outputs": [],
   "source": [
    "categorical=df[cat_data]\n",
    "categorical.head()"
   ]
  },
  {
   "cell_type": "code",
   "execution_count": null,
   "id": "c2fad60a",
   "metadata": {},
   "outputs": [],
   "source": [
    "from sklearn.preprocessing import OneHotEncoder\n"
   ]
  },
  {
   "cell_type": "code",
   "execution_count": null,
   "id": "b44758a4",
   "metadata": {},
   "outputs": [],
   "source": []
  },
  {
   "cell_type": "code",
   "execution_count": null,
   "id": "5d26a55e",
   "metadata": {},
   "outputs": [],
   "source": [
    "len(categorical['Airline'].unique())"
   ]
  },
  {
   "cell_type": "code",
   "execution_count": null,
   "id": "2e9247ea",
   "metadata": {},
   "outputs": [],
   "source": [
    "Source=pd.get_dummies(categorical['Source'], drop_first=True)\n",
    "Source.head()"
   ]
  },
  {
   "cell_type": "code",
   "execution_count": null,
   "id": "9477631b",
   "metadata": {},
   "outputs": [],
   "source": [
    "Destination=pd.get_dummies(categorical['Destination'], drop_first=True)\n",
    "Destination.head()"
   ]
  },
  {
   "cell_type": "code",
   "execution_count": null,
   "id": "c5ebe00e",
   "metadata": {},
   "outputs": [],
   "source": [
    "categorical['Route_1']=categorical['Route'].str.split('→').str[0]\n",
    "categorical['Route_2']=categorical['Route'].str.split('→').str[1]\n",
    "categorical['Route_3']=categorical['Route'].str.split('→').str[2]\n",
    "categorical['Route_4']=categorical['Route'].str.split('→').str[3]\n",
    "categorical['Route_5']=categorical['Route'].str.split('→').str[4]"
   ]
  },
  {
   "cell_type": "code",
   "execution_count": null,
   "id": "d174b789",
   "metadata": {},
   "outputs": [],
   "source": [
    "categorical.head()"
   ]
  },
  {
   "cell_type": "code",
   "execution_count": null,
   "id": "7be40a42",
   "metadata": {},
   "outputs": [],
   "source": [
    "categorical['Route_1'].fillna('None',inplace=True)\n",
    "categorical['Route_2'].fillna('None',inplace=True)\n",
    "categorical['Route_3'].fillna('None',inplace=True)\n",
    "categorical['Route_4'].fillna('None',inplace=True)\n",
    "categorical['Route_5'].fillna('None',inplace=True)"
   ]
  },
  {
   "cell_type": "code",
   "execution_count": null,
   "id": "6f97bb78",
   "metadata": {},
   "outputs": [],
   "source": [
    "#now extract how many categories in each cat_feature\n",
    "for feature in categorical.columns:\n",
    "    print('{} has total {} categories \\n'.format(feature,len(categorical[feature].value_counts())))"
   ]
  },
  {
   "cell_type": "markdown",
   "id": "ad095640",
   "metadata": {},
   "source": [
    "### as we will see we have lots of features in Route , one hot encoding will not be a better option so appply Label Encoding"
   ]
  },
  {
   "cell_type": "code",
   "execution_count": null,
   "id": "60ce7b39",
   "metadata": {},
   "outputs": [],
   "source": [
    "from sklearn.preprocessing import LabelEncoder\n",
    "encoder=LabelEncoder()"
   ]
  },
  {
   "cell_type": "code",
   "execution_count": null,
   "id": "7809fc18",
   "metadata": {},
   "outputs": [],
   "source": [
    "for i in ['Route_1', 'Route_2', 'Route_3', 'Route_4','Route_5']:\n",
    "    categorical[i]=encoder.fit_transform(categorical[i])"
   ]
  },
  {
   "cell_type": "code",
   "execution_count": null,
   "id": "816d7539",
   "metadata": {},
   "outputs": [],
   "source": [
    "\n",
    "categorical.drop('Additional_Info', axis =1)\n",
    "categorical.drop('Route', axis = 1)"
   ]
  },
  {
   "cell_type": "code",
   "execution_count": null,
   "id": "9937c6f4",
   "metadata": {},
   "outputs": [],
   "source": [
    "# As this is case of Ordinal Categorical type we perform LabelEncoder\n",
    "# Here Values are assigned with corresponding key\n",
    "\n",
    "dict={'non-stop':0, '2 stops':2, '1 stop':1, '3 stops':3, '4 stops':4}\n",
    "\n",
    "categorical['Total_Stops']=categorical['Total_Stops'].map(dict)"
   ]
  },
  {
   "cell_type": "code",
   "execution_count": null,
   "id": "407c077a",
   "metadata": {},
   "outputs": [],
   "source": []
  },
  {
   "cell_type": "code",
   "execution_count": null,
   "id": "83c9e22e",
   "metadata": {},
   "outputs": [],
   "source": [
    "# As Airline is Nominal Categorical data we will perform OneHotEncoding\n",
    "Airline=pd.get_dummies(categorical['Airline'], drop_first=True)\n",
    "Airline.head()"
   ]
  },
  {
   "cell_type": "code",
   "execution_count": null,
   "id": "93e37be7",
   "metadata": {},
   "outputs": [],
   "source": []
  },
  {
   "cell_type": "code",
   "execution_count": null,
   "id": "47c0408d",
   "metadata": {},
   "outputs": [],
   "source": [
    "df[cont_col]"
   ]
  },
  {
   "cell_type": "code",
   "execution_count": null,
   "id": "710e538b",
   "metadata": {},
   "outputs": [],
   "source": []
  },
  {
   "cell_type": "code",
   "execution_count": null,
   "id": "9ac4b881",
   "metadata": {},
   "outputs": [],
   "source": [
    "df[cont_col]"
   ]
  },
  {
   "cell_type": "code",
   "execution_count": null,
   "id": "56b92ae5",
   "metadata": {},
   "outputs": [],
   "source": []
  },
  {
   "cell_type": "code",
   "execution_count": null,
   "id": "832d3a49",
   "metadata": {},
   "outputs": [],
   "source": [
    " ## Concatenate dataframe --> categorical + Airline + Source + Destination\n",
    "\n",
    "df=pd.concat([categorical,Airline,Source,Destination,df[cont_col]],axis=1)\n",
    "df.columns"
   ]
  },
  {
   "cell_type": "code",
   "execution_count": null,
   "id": "5743eec2",
   "metadata": {},
   "outputs": [],
   "source": [
    "## final dataset\n",
    "df.drop(['Airline', 'Source','Destination','Route','Duration','Additional_Info'], axis = 1, inplace =True)"
   ]
  },
  {
   "cell_type": "code",
   "execution_count": null,
   "id": "07a92150",
   "metadata": {},
   "outputs": [],
   "source": [
    "df"
   ]
  },
  {
   "cell_type": "code",
   "execution_count": null,
   "id": "ea2613e8",
   "metadata": {},
   "outputs": [],
   "source": [
    "### separate independent & dependent data\n",
    "\n",
    "x=df.drop('Price',axis=1)\n",
    "x.head()\n",
    "y=df['Price']\n",
    "y.head()"
   ]
  },
  {
   "cell_type": "code",
   "execution_count": null,
   "id": "e2b87aa8",
   "metadata": {},
   "outputs": [],
   "source": [
    "## split dataset into train & test\n",
    "from sklearn.model_selection import train_test_split\n",
    "X_train,X_test,y_train,y_test=train_test_split(x,y,test_size=0.2)"
   ]
  },
  {
   "cell_type": "code",
   "execution_count": null,
   "id": "a231c11c",
   "metadata": {},
   "outputs": [],
   "source": [
    "X_train.dtypes"
   ]
  },
  {
   "cell_type": "code",
   "execution_count": null,
   "id": "6b96bb1b",
   "metadata": {},
   "outputs": [],
   "source": [
    "# from xgboost import XGBRegressor\n",
    "# model =  XGBRegressor()\n",
    "# model.fit(x_train,y_train)\n",
    "\n",
    "from sklearn.ensemble import RandomForestRegressor\n",
    "model = RandomForestRegressor()\n",
    "model.fit(X_train,y_train)\n"
   ]
  },
  {
   "cell_type": "code",
   "execution_count": null,
   "id": "a34e53a4",
   "metadata": {},
   "outputs": [],
   "source": []
  },
  {
   "cell_type": "code",
   "execution_count": null,
   "id": "01063a05",
   "metadata": {},
   "outputs": [],
   "source": []
  },
  {
   "cell_type": "code",
   "execution_count": null,
   "id": "1e19cd7e",
   "metadata": {},
   "outputs": [],
   "source": []
  },
  {
   "cell_type": "code",
   "execution_count": null,
   "id": "06750179",
   "metadata": {},
   "outputs": [],
   "source": []
  },
  {
   "cell_type": "code",
   "execution_count": null,
   "id": "bd6a5ba8",
   "metadata": {},
   "outputs": [],
   "source": []
  },
  {
   "cell_type": "code",
   "execution_count": null,
   "id": "75d623ff",
   "metadata": {},
   "outputs": [],
   "source": []
  },
  {
   "cell_type": "code",
   "execution_count": null,
   "id": "a0d4a8dd",
   "metadata": {},
   "outputs": [],
   "source": []
  },
  {
   "cell_type": "code",
   "execution_count": null,
   "id": "17166a69",
   "metadata": {},
   "outputs": [],
   "source": []
  },
  {
   "cell_type": "code",
   "execution_count": null,
   "id": "85cd6f11",
   "metadata": {},
   "outputs": [],
   "source": []
  },
  {
   "cell_type": "markdown",
   "id": "f6b425a3",
   "metadata": {},
   "source": [
    "# Label Encoder to handle airline"
   ]
  },
  {
   "cell_type": "code",
   "execution_count": null,
   "id": "fcc8486b",
   "metadata": {},
   "outputs": [],
   "source": [
    "\n",
    "from sklearn.preprocessing import LabelEncoder\n",
    "\n",
    "# creating instance of labelencoder\n",
    "labelencoder = LabelEncoder()\n",
    "\n",
    "# Assigning numerical values and storing in another column\n",
    "categorical['Airlines_Cat'] = labelencoder.fit_transform(df['Airline'])\n",
    "df"
   ]
  },
  {
   "cell_type": "markdown",
   "id": "fc79644b",
   "metadata": {},
   "source": [
    "# Label encoder for source"
   ]
  },
  {
   "cell_type": "code",
   "execution_count": null,
   "id": "f66987cc",
   "metadata": {},
   "outputs": [],
   "source": [
    "labelencoder = LabelEncoder()\n",
    "\n",
    "# Assigning numerical values and storing in another column\n",
    "categorical['categorical'] = labelencoder.fit_transform(df['Source'])\n",
    "df"
   ]
  },
  {
   "cell_type": "markdown",
   "id": "3db1477d",
   "metadata": {},
   "source": [
    "### label encoder for Destination"
   ]
  },
  {
   "cell_type": "code",
   "execution_count": null,
   "id": "7b4b37e0",
   "metadata": {},
   "outputs": [],
   "source": [
    "df['Destination_cat'] = labelencoder.fit_transform(df['Destination'])\n",
    "df"
   ]
  },
  {
   "cell_type": "markdown",
   "id": "d7c2c5c5",
   "metadata": {},
   "source": [
    "## Label encoder for route"
   ]
  },
  {
   "cell_type": "code",
   "execution_count": null,
   "id": "aa7a4cf3",
   "metadata": {},
   "outputs": [],
   "source": [
    "df['Route_cat'] = labelencoder.fit_transform(df['Route'])\n",
    "\n",
    "df"
   ]
  },
  {
   "cell_type": "code",
   "execution_count": null,
   "id": "8e2986e2",
   "metadata": {},
   "outputs": [],
   "source": []
  }
 ],
 "metadata": {
  "kernelspec": {
   "display_name": "Python 3",
   "language": "python",
   "name": "python3"
  },
  "language_info": {
   "codemirror_mode": {
    "name": "ipython",
    "version": 3
   },
   "file_extension": ".py",
   "mimetype": "text/x-python",
   "name": "python",
   "nbconvert_exporter": "python",
   "pygments_lexer": "ipython3",
   "version": "3.8.8"
  }
 },
 "nbformat": 4,
 "nbformat_minor": 5
}
